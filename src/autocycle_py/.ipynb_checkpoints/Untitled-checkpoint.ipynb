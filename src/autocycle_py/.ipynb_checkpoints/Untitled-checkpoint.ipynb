{
 "cells": [
  {
   "cell_type": "code",
   "execution_count": 52,
   "id": "f4f4752d-6d8a-420d-9fea-48e9a47e52f7",
   "metadata": {},
   "outputs": [],
   "source": [
    "import numpy as np\n",
    "from matplotlib import pyplot as plt\n",
    "\n",
    "class obj:\n",
    "    def __init__(self, x1, x2, z1, z2):\n",
    "        self.x1 = x1\n",
    "        self.x2 = x2\n",
    "        self.z1 = z1\n",
    "        self.z2 = z2\n",
    "\n",
    "box_dist = 0.3  # distance in each dimesion surrounding line segment\n",
    "\n",
    "def diff(p1, p2):\n",
    "    return (p1[0] - p2[0],\n",
    "            p1[1] - p2[1],\n",
    "            p1[0] * p2[1] - p2[0] * p1[1])\n",
    "\n",
    "def rotate_point(point, theta):\n",
    "    return point[0] * np.cos(theta) - point[1] * np.sin(theta), point[0] * np.sin(theta) + point[1] * np.cos(theta)\n",
    "\n",
    "def trans_point(point, trans):\n",
    "    return point[0] + trans[0], point[1] + trans[1]\n",
    "\n",
    "def get_bounding_box(x1, x2, z1, z2):\n",
    "        o1 = (x1, z1)\n",
    "        o2 = (x2, z2)\n",
    "        mov = o2\n",
    "        o1 = (o1[0] - mov[0], o1[1] - mov[1])\n",
    "        # Rotates o1 about o2/origin so that o1 is directly above o2\n",
    "        if o1[1] == 0:\n",
    "            theta = (1 / 2) * np.pi if o1[0] > 0 else -(1 / 2) * np.pi\n",
    "        else:\n",
    "            theta = np.arctan(o1[0] / o1[1]) if o1[1] >= 0 else np.arctan(o1[0] / o1[1]) + np.pi\n",
    "\n",
    "        o1 = rotate_point(o1, theta)\n",
    "        p1 = (-box_dist, o1[1] + box_dist)\n",
    "        p2 = (box_dist, o1[1] + box_dist)\n",
    "        p3 = (box_dist, -box_dist)\n",
    "        p4 = (-box_dist, -box_dist)\n",
    "\n",
    "        # Rotates p1, p2, and p3 by negative theta (original orientation)\n",
    "        p1 = rotate_point(p1, -theta)\n",
    "        p2 = rotate_point(p2, -theta)\n",
    "        p3 = rotate_point(p3, -theta)\n",
    "        p4 = rotate_point(p4, -theta)\n",
    "\n",
    "        # Translates points back to relative positions\n",
    "        p1 = trans_point(p1, mov)\n",
    "        p2 = trans_point(p2, mov)\n",
    "        p3 = trans_point(p3, mov)\n",
    "        p4 = trans_point(p4, mov)\n",
    "        \n",
    "        return (p1, p2, p3, p4)\n",
    "\n",
    "\n",
    "def intersection(x1, x2, z1, z2, objects):\n",
    "    objects = map(lambda o: (o.x1, o.x2, o.z1, o.z2), objects)\n",
    "    if x1 < x2:\n",
    "        points = get_bounding_box(x1, x2, z1, z2)\n",
    "    elif x1 > x2:\n",
    "        points = get_boudning_box(x2, x1, z2, z1)\n",
    "    else:\n",
    "        if z1 < z2:\n",
    "            points = ((x1 - box_dist, z1 - box_dist),\n",
    "                      (x1 + box_dist, z1 - box_dist),\n",
    "                      (x2 + box_dist, z2 + box_dist),\n",
    "                      (x2 - box_dist, z2 + box_dist))\n",
    "        else:\n",
    "            points = ((x2 - box_dist, z2 - box_dist),\n",
    "                      (x2 + box_dist, z2 - box_dist),\n",
    "                      (x1 + box_dist, z1 + box_dist),\n",
    "                      (x1 - box_dist, z1 + box_dist))\n",
    "    p2p3 = (points[2][0] - points[1][0], points[2][1] - points[1][1])\n",
    "    p2p1 = (points[0][0] - points[1][0], points[0][1] - points[1][1])\n",
    "    point_diffs = (diff(points[0], points[1]), diff(points[0], points[2]), diff(points[1], points[3]), diff(points[2], points[3]))\n",
    "    \n",
    "    for x3, x4, z3, z4 in objects:\n",
    "        # intersection = []\n",
    "        if x3 > x4:\n",
    "            temp = (x3, z3)\n",
    "            x3, z3 = (x4, z4)\n",
    "            x4, z4 = temp\n",
    "        diffs_obj = (x3 - x4, z3 - z4, x3 * z4 - x4 * z3)\n",
    "\n",
    "        for doni in range(4):\n",
    "            if (D := point_diffs[doni][0] * diffs_obj[1] - point_diffs[doni][1] * diffs_obj[0]) != 0:\n",
    "                x = (point_diffs[doni][2] * diffs_obj[1] - point_diffs[doni][1] * diffs_obj[2]) / D\n",
    "                print(D)\n",
    "                print(x)\n",
    "                if x3 <= x <= x4:\n",
    "                    y = (point_diffs[doni][0] * diffs_obj[2] - point_diffs[doni][2] * diffs_obj[0]) / D\n",
    "                    p2m = (x - points[0][0], y - points[0][1])\n",
    "                    if 0 <= np.dot(p2m, p2p3) < np.dot(p2p3, p2p3) and 0 <= np.dot(p2m, p2p1) < np.dot(p2p1, p2p1):\n",
    "                        return True\n",
    "    return False\n"
   ]
  },
  {
   "cell_type": "code",
   "execution_count": 53,
   "id": "3a247c15-fcdc-49f4-853d-1147d5d4327d",
   "metadata": {},
   "outputs": [
    {
     "name": "stdout",
     "output_type": "stream",
     "text": [
      "((2.0, 1.575735931288071), (1.5757359312880714, 1.9999999999999996), (4.0, 4.424264068711929), (4.424264068711929, 4.0))\n",
      "-6.788225099390857\n",
      "1.7878679656440355\n",
      "-6.788225099390861\n",
      "3.0000000000000004\n",
      "6.7882250993908535\n",
      "2.9999999999999996\n",
      "6.788225099390857\n",
      "4.212132034355964\n",
      "False\n"
     ]
    },
    {
     "data": {
      "image/png": "[encoded data removed]",
      "text/plain": [
       "<Figure size 432x288 with 1 Axes>"
      ]
     },
     "metadata": {
      "needs_background": "light"
     },
     "output_type": "display_data"
    }
   ],
   "source": [
    "X = [2, 3]\n",
    "Y = [2, 3]\n",
    "val = get_bounding_box(2,4,2,4)\n",
    "print(intersection(2,4,2,4, [obj(2,10,2,10)]))\n",
    "\n",
    "X1 = [v1 for v1,v2 in val]\n",
    "Y1 = [v2 for v1,v2 in val]\n",
    "#plt.plot(X, Y, 'bo')\n",
    "plt.plot(X1, Y1, 'ro')\n",
    "plt.axis('square')\n",
    "plt.show()"
   ]
  },
  {
   "cell_type": "code",
   "execution_count": null,
   "id": "ce31c277-54a0-43b6-a9be-2cb9ec353062",
   "metadata": {},
   "outputs": [],
   "source": []
  },
  {
   "cell_type": "code",
   "execution_count": null,
   "id": "fe1dfb2b-4030-41e8-9453-5a2538a8d1a1",
   "metadata": {},
   "outputs": [],
   "source": []
  }
 ],
 "metadata": {
  "kernelspec": {
   "display_name": "Python 3",
   "language": "python",
   "name": "python3"
  },
  "language_info": {
   "codemirror_mode": {
    "name": "ipython",
    "version": 3
   },
   "file_extension": ".py",
   "mimetype": "text/x-python",
   "name": "python",
   "nbconvert_exporter": "python",
   "pygments_lexer": "ipython3",
   "version": "3.9.1"
  }
 },
 "nbformat": 4,
 "nbformat_minor": 5
}
